{
 "cells": [
  {
   "cell_type": "code",
   "execution_count": 51,
   "metadata": {
    "collapsed": true
   },
   "outputs": [],
   "source": [
    "from pyspark import SparkContext\n",
    "from pyspark.sql import HiveContext\n",
    "from igraph import *\n",
    "%matplotlib inline"
   ]
  },
  {
   "cell_type": "code",
   "execution_count": 52,
   "metadata": {
    "collapsed": true
   },
   "outputs": [],
   "source": [
    "from pyspark.sql.functions import sum, col, when, count"
   ]
  },
  {
   "cell_type": "code",
   "execution_count": 53,
   "metadata": {
    "collapsed": true
   },
   "outputs": [],
   "source": [
    "sc.stop()"
   ]
  },
  {
   "cell_type": "code",
   "execution_count": 54,
   "metadata": {
    "collapsed": false
   },
   "outputs": [],
   "source": [
    "sc = SparkContext(appName=\"product_id_friends\")\n",
    "datarun = HiveContext(sc)"
   ]
  },
  {
   "cell_type": "code",
   "execution_count": 66,
   "metadata": {
    "collapsed": false
   },
   "outputs": [],
   "source": [
    "data_voice = datarun.sql(\"select * from bigdata_hackathon_2017.voice_traffic_final_sample_rank where product_id = '1009213'\").cache()"
   ]
  },
  {
   "cell_type": "code",
   "execution_count": 103,
   "metadata": {
    "collapsed": false
   },
   "outputs": [],
   "source": [
    "data_voice = \\\n",
    "data_voice.select(col(\"product_id\").cast(\"String\"), \\\n",
    "                  col(\"other_party_product_id\").cast(\"String\"), \\\n",
    "                  \"duration\")"
   ]
  },
  {
   "cell_type": "code",
   "execution_count": 104,
   "metadata": {
    "collapsed": false
   },
   "outputs": [],
   "source": [
    "edges = \\\n",
    "data_voice.select(col(\"product_id\").alias(\"src\"),col(\"other_party_product_id\").alias(\"dst\"),\"duration\") \\\n",
    "          .groupBy(\"src\",\"dst\") \\\n",
    "          .agg(count(\"*\").alias(\"cnt\"))"
   ]
  },
  {
   "cell_type": "code",
   "execution_count": 107,
   "metadata": {
    "collapsed": false
   },
   "outputs": [
    {
     "name": "stdout",
     "output_type": "stream",
     "text": [
      "+-------+-------+---+\n",
      "|    src|    dst|cnt|\n",
      "+-------+-------+---+\n",
      "|1009213|2792886|  2|\n",
      "|1009213|2517360|  1|\n",
      "|1009213|2553296| 25|\n",
      "|1009213|1665968|  1|\n",
      "|1009213|2870538|  2|\n",
      "|1009213|2315645|  7|\n",
      "|1009213|2559212|  1|\n",
      "+-------+-------+---+\n",
      "\n"
     ]
    }
   ],
   "source": [
    "edges.show(100)"
   ]
  },
  {
   "cell_type": "code",
   "execution_count": 122,
   "metadata": {
    "collapsed": false
   },
   "outputs": [],
   "source": [
    "vertices = \\\n",
    "edges.select(\"src\") \\\n",
    "     .unionAll(edges.select(\"dst\")) \\\n",
    "     .withColumnRenamed(\"src\",\"id\") \\\n",
    "     .withColumn(\"color\",when(col(\"id\") == '1009213',0).otherwise(1)) \\\n",
    "     .distinct()"
   ]
  },
  {
   "cell_type": "code",
   "execution_count": 123,
   "metadata": {
    "collapsed": false
   },
   "outputs": [
    {
     "name": "stdout",
     "output_type": "stream",
     "text": [
      "+-------+-----+\n",
      "|     id|color|\n",
      "+-------+-----+\n",
      "|2553296|    1|\n",
      "|2315645|    1|\n",
      "|2792886|    1|\n",
      "|2517360|    1|\n",
      "|1009213|    0|\n",
      "|2559212|    1|\n",
      "|2870538|    1|\n",
      "|1665968|    1|\n",
      "+-------+-----+\n",
      "\n"
     ]
    }
   ],
   "source": [
    "vertices.show(100)"
   ]
  },
  {
   "cell_type": "code",
   "execution_count": 124,
   "metadata": {
    "collapsed": true
   },
   "outputs": [],
   "source": [
    "g = Graph()"
   ]
  },
  {
   "cell_type": "code",
   "execution_count": 125,
   "metadata": {
    "collapsed": true
   },
   "outputs": [],
   "source": [
    "vertices_pandas = vertices.toPandas()\n",
    "g.add_vertices(vertices_pandas.shape[0])\n",
    "g.vs['name'] = vertices_pandas['id']\n",
    "g.vs['color'] = vertices_pandas['color']"
   ]
  },
  {
   "cell_type": "code",
   "execution_count": 126,
   "metadata": {
    "collapsed": false
   },
   "outputs": [],
   "source": [
    "edges_pandas = edges.toPandas()\n",
    "g.add_edges(zip(edges_pandas['src'].values, edges_pandas['dst'].values))\n",
    "g.es['cnt'] = edges_pandas['cnt'].values"
   ]
  },
  {
   "cell_type": "code",
   "execution_count": 127,
   "metadata": {
    "collapsed": false
   },
   "outputs": [
    {
     "data": {
      "text/plain": [
       "'IGRAPH UN-- 8 7 -- \\n+ attr: color (v), name (v), cnt (e)'"
      ]
     },
     "execution_count": 127,
     "metadata": {},
     "output_type": "execute_result"
    }
   ],
   "source": [
    "g.summary()"
   ]
  },
  {
   "cell_type": "code",
   "execution_count": 128,
   "metadata": {
    "collapsed": false
   },
   "outputs": [],
   "source": [
    "style = {}\n",
    "style[\"margin\"] = 75\n",
    "style[\"vertex_label\"] = g.vs[\"name\"]\n",
    "style[\"vertex_label_dist\"] = 2\n",
    "style[\"vertex_label_angle\"] = 180\n",
    "color_dict = {int(\"0\"): \"green\", int(\"-1\"):\"red\", int(\"1\"):\"blue\"}\n",
    "style[\"vertex_color\"] = [color_dict[color] for color in g.vs[\"color\"]]\n",
    "style[\"edge_width\"] = [int(x)/1.5 for x in g.es[\"cnt\"]]\n",
    "style[\"edge_curved\"] = 0.2\n",
    "style[\"edge_color\"] = \"gray\""
   ]
  },
  {
   "cell_type": "code",
   "execution_count": 131,
   "metadata": {
    "collapsed": false
   },
   "outputs": [
    {
     "data": {
      "text/plain": [
       "<igraph.drawing.Plot at 0x7f19a397e310>"
      ]
     },
     "execution_count": 131,
     "metadata": {},
     "output_type": "execute_result"
    }
   ],
   "source": [
    "plot(g, target=\"/home/jnovotny/notebooks/product_id_friends.png\", **style)"
   ]
  },
  {
   "cell_type": "code",
   "execution_count": 132,
   "metadata": {
    "collapsed": false,
    "scrolled": false
   },
   "outputs": [
    {
     "data": {
      "image/png": "[encoded data removed]",
      "text/plain": [
       "<IPython.core.display.Image object>"
      ]
     },
     "execution_count": 132,
     "metadata": {},
     "output_type": "execute_result"
    }
   ],
   "source": [
    "from IPython.display import Image\n",
    "Image(filename='/home/jnovotny/notebooks/product_id_friends.png') "
   ]
  }
 ],
 "metadata": {
  "kernelspec": {
   "display_name": "Python 2",
   "language": "python",
   "name": "python2"
  },
  "language_info": {
   "codemirror_mode": {
    "name": "ipython",
    "version": 2
   },
   "file_extension": ".py",
   "mimetype": "text/x-python",
   "name": "python",
   "nbconvert_exporter": "python",
   "pygments_lexer": "ipython2",
   "version": "2.7.6"
  }
 },
 "nbformat": 4,
 "nbformat_minor": 0
}
